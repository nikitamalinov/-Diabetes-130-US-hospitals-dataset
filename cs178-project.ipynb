{
 "cells": [
  {
   "cell_type": "code",
   "execution_count": 14,
   "id": "5119569a",
   "metadata": {},
   "outputs": [],
   "source": [
    "# Download and Clean the Data\n",
    "import numpy as np\n",
    "import pandas as pd\n",
    "import zipfile\n",
    "import urllib.request\n",
    "from sklearn.ensemble import RandomForestClassifier\n",
    "from sklearn.model_selection import train_test_split\n",
    "from sklearn.metrics import accuracy_score, confusion_matrix\n",
    "\n",
    "url = 'https://archive.ics.uci.edu/ml/machine-learning-databases/00296/dataset_diabetes.zip'\n",
    "filename = 'dataset_diabetes.zip'\n",
    "urllib.request.urlretrieve(url, filename)\n",
    "\n",
    "with zipfile.ZipFile(filename, 'r') as zip_ref:\n",
    "    zip_ref.extractall('data')\n",
    "\n",
    "diabetic_data = pd.read_csv('data/dataset_diabetes/diabetic_data.csv', header=0, quotechar='\"')\n",
    "\n",
    "# drop columns with more than 30% missing values\n",
    "diabetic_data = diabetic_data.drop(['weight', 'payer_code', 'medical_specialty'], axis=1)\n",
    "\n",
    "from sklearn.preprocessing import LabelEncoder\n",
    "from sklearn.preprocessing import OrdinalEncoder\n",
    "le = LabelEncoder()\n",
    "\n",
    "\n",
    "label_encoding_columns = ['race', 'gender', 'diag_1', 'diag_2', 'diag_3',\n",
    "            'max_glu_serum', 'A1Cresult', 'metformin', 'repaglinide', 'nateglinide',\n",
    "            'chlorpropamide', 'glimepiride', 'acetohexamide', 'glipizide', 'glyburide',\n",
    "            'tolbutamide', 'pioglitazone', 'rosiglitazone', 'acarbose', 'miglitol',\n",
    "            'troglitazone', 'tolazamide', 'examide', 'citoglipton', 'insulin',\n",
    "            'glyburide-metformin', 'glipizide-metformin', 'glimepiride-pioglitazone',\n",
    "            'metformin-rosiglitazone', 'metformin-pioglitazone', 'change', 'diabetesMed']\n",
    "\n",
    "for col in label_encoding_columns:\n",
    "    diabetic_data[col] = le.fit_transform(diabetic_data[col])\n",
    "\n",
    "# create binary values for readmitted column\n",
    "diabetic_data['readmitted'] = diabetic_data['readmitted'].apply(lambda x: 0 if x in ['NO', '>30'] else 1)\n",
    "\n",
    "\n",
    "oe = OrdinalEncoder(categories=[['[0-10)', '[10-20)', '[20-30)', '[30-40)', '[40-50)', '[50-60)', '[60-70)', '[70-80)', '[80-90)', '[90-100)']], dtype=int)\n",
    "diabetic_data['age'] = oe.fit_transform(diabetic_data[['age']])\n",
    "\n",
    "seed = 123\n",
    "np.random.seed(seed) \n"
   ]
  },
  {
   "cell_type": "code",
   "execution_count": 15,
   "id": "8a143e9d",
   "metadata": {},
   "outputs": [],
   "source": [
    "# Create 20% testing and 80% training data set split\n",
    "X = diabetic_data.drop(columns=['readmitted'])\n",
    "Y = diabetic_data['readmitted']\n",
    "\n",
    "X_train, X_test, y_train, y_test = train_test_split(X, Y, test_size=0.25, random_state=seed)"
   ]
  },
  {
   "cell_type": "code",
   "execution_count": 16,
   "id": "c44ad544",
   "metadata": {},
   "outputs": [
    {
     "name": "stdout",
     "output_type": "stream",
     "text": [
      "Accuracy: 0.8887273013127899\n"
     ]
    }
   ],
   "source": [
    "# Logistic Regression -> hw3\n",
    "from sklearn.linear_model import LogisticRegression\n",
    "\n",
    "# create a logistic regression model\n",
    "model = LogisticRegression()\n",
    "\n",
    "# fit the model to the training data\n",
    "model.fit(X_train, y_train)\n",
    "\n",
    "# make predictions on the test data\n",
    "y_pred = model.predict(X_test)\n",
    "\n",
    "# evaluate the model performance\n",
    "accuracy = accuracy_score(y_test, y_pred)\n",
    "confusion = confusion_matrix(y_test, y_pred)\n",
    "\n",
    "print(f'Accuracy: {accuracy}')\n"
   ]
  },
  {
   "cell_type": "code",
   "execution_count": 3,
   "id": "8847890c",
   "metadata": {},
   "outputs": [
    {
     "name": "stdout",
     "output_type": "stream",
     "text": [
      "(81412, 49)\n"
     ]
    }
   ],
   "source": [
    "# SVM Classifier (TODO)\n"
   ]
  },
  {
   "cell_type": "code",
   "execution_count": 17,
   "id": "bba209ed",
   "metadata": {},
   "outputs": [
    {
     "name": "stdout",
     "output_type": "stream",
     "text": [
      "Accuracy: 0.8885307758823991\n"
     ]
    },
    {
     "name": "stderr",
     "output_type": "stream",
     "text": [
      "C:\\Users\\nikit\\AppData\\Roaming\\Python\\Python39\\site-packages\\sklearn\\neural_network\\_multilayer_perceptron.py:679: ConvergenceWarning: Stochastic Optimizer: Maximum iterations (20) reached and the optimization hasn't converged yet.\n",
      "  warnings.warn(\n"
     ]
    }
   ],
   "source": [
    "# Neural Network Classifier\n",
    "\n",
    "import pandas as pd\n",
    "import zipfile\n",
    "import urllib.request\n",
    "from sklearn.model_selection import train_test_split\n",
    "from sklearn.neural_network import MLPClassifier\n",
    "from sklearn.preprocessing import StandardScaler\n",
    "from sklearn.metrics import accuracy_score, confusion_matrix\n",
    "\n",
    "scaler = StandardScaler()\n",
    "X_train = scaler.fit_transform(X_train)\n",
    "X_test = scaler.transform(X_test)\n",
    "\n",
    "model = MLPClassifier(hidden_layer_sizes=(16, 8), activation='relu', solver='adam', alpha=0.001, max_iter=20, validation_fraction=0.1, random_state=seed)\n",
    "\n",
    "model.fit(X_train, y_train)\n",
    "\n",
    "y_pred = model.predict(X_test)\n",
    "\n",
    "# evaluate the model performance\n",
    "accuracy = accuracy_score(y_test, y_pred)\n",
    "confusion = confusion_matrix(y_test, y_pred)\n",
    "\n",
    "print(f'Accuracy: {accuracy}')\n"
   ]
  },
  {
   "cell_type": "code",
   "execution_count": 18,
   "id": "eb139703",
   "metadata": {},
   "outputs": [
    {
     "name": "stdout",
     "output_type": "stream",
     "text": [
      "Accuracy: 0.8888059114849461\n"
     ]
    }
   ],
   "source": [
    "# Random Forest Classifier\n",
    "model = RandomForestClassifier(n_estimators=100, max_depth=10, random_state=seed)\n",
    "model.fit(X_train, y_train)\n",
    "\n",
    "y_pred = model.predict(X_test)\n",
    "\n",
    "accuracy = accuracy_score(y_test, y_pred)\n",
    "confusion = confusion_matrix(y_test, y_pred)\n",
    "\n",
    "print(f'Accuracy: {accuracy}')"
   ]
  }
 ],
 "metadata": {
  "colab": {
   "collapsed_sections": [],
   "provenance": []
  },
  "kernelspec": {
   "display_name": "Python 3 (ipykernel)",
   "language": "python",
   "name": "python3"
  },
  "language_info": {
   "codemirror_mode": {
    "name": "ipython",
    "version": 3
   },
   "file_extension": ".py",
   "mimetype": "text/x-python",
   "name": "python",
   "nbconvert_exporter": "python",
   "pygments_lexer": "ipython3",
   "version": "3.9.13"
  }
 },
 "nbformat": 4,
 "nbformat_minor": 5
}
